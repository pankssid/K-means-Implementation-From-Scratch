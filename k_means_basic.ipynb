{
 "cells": [
  {
   "cell_type": "code",
   "execution_count": 3,
   "metadata": {},
   "outputs": [],
   "source": [
    "import numpy as np\n",
    "import sys\n",
    "import matplotlib.pyplot as plt\n"
   ]
  },
  {
   "cell_type": "code",
   "execution_count": 4,
   "metadata": {},
   "outputs": [],
   "source": [
    "%matplotlib inline"
   ]
  },
  {
   "cell_type": "code",
   "execution_count": 5,
   "metadata": {},
   "outputs": [],
   "source": [
    "#K-Means clustering implementation\n",
    "# data = set of data points\n",
    "# k = number of clusters\n",
    "# maxIters = maximum number of iterations executed k-means\n",
    "\n",
    "\n",
    "\n",
    "def kMeans(X, K):\n",
    "\n",
    "    centroids = X[np.random.choice(np.arange(len(X)), K), :]\n",
    "    print(centroids)\n",
    "   \n",
    "        \n",
    "    while(1):\n",
    "                \n",
    "        # Cluster Assignment step\n",
    "        C = np.array([np.argmin([np.dot(x_i-y_k, x_i-y_k) for y_k in centroids]) for x_i in X])\n",
    "        print(C)  \n",
    "        # Move centroids step\n",
    "        q = [X[C == k].mean(axis = 0) for k in range(K)]\n",
    "        diff=np.abs(np.subtract(centroids,q))\n",
    "        centroids=q      \n",
    "        #if plot_progress != None: plot_progress(X, C, np.array(centroids))\n",
    "        if(diff.any()<10**-7):\n",
    "            return np.array(centroids) , C"
   ]
  },
  {
   "cell_type": "code",
   "execution_count": 6,
   "metadata": {},
   "outputs": [],
   "source": [
    "def show(X, C, centroids, keep = False):\n",
    "    \n",
    "    import time\n",
    "    \n",
    "    time.sleep(0.5)\n",
    "    \n",
    "    plt.cla()\n",
    "    \n",
    "    plt.plot(X[C == 0, 0], X[C == 0, 1], '*b',\n",
    "         X[C == 1, 0], X[C == 1, 1], '*r',\n",
    "         X[C == 2, 0], X[C == 2, 1], '*g')\n",
    "    \n",
    "    plt.plot(centroids[:,0],centroids[:,1],'*m',markersize=20)\n",
    "    plt.draw()\n",
    "    \n",
    "    if keep :\n",
    "        plt.ioff()\n",
    "        plt.show()\n"
   ]
  },
  {
   "cell_type": "code",
   "execution_count": 7,
   "metadata": {},
   "outputs": [
    {
     "name": "stderr",
     "output_type": "stream",
     "text": [
      "/usr/lib/python3/dist-packages/ipykernel_launcher.py:5: RuntimeWarning: covariance is not positive-semidefinite.\n",
      "  \"\"\"\n",
      "/usr/lib/python3/dist-packages/ipykernel_launcher.py:7: RuntimeWarning: covariance is not positive-semidefinite.\n",
      "  import sys\n"
     ]
    }
   ],
   "source": [
    "m1, cov1 = [9, 8], [[1.5, 2], [1, 2]]\n",
    "m2, cov2 = [5, 13], [[2.5, -1.5], [-1.5, 1.5]]\n",
    "m3, cov3 = [3, 7], [[0.25, 0.5], [-0.1, 0.5]]\n",
    "\n",
    "data1 = np.random.multivariate_normal(m1, cov1, 250)\n",
    "data2 = np.random.multivariate_normal(m2, cov2, 180)\n",
    "data3 = np.random.multivariate_normal(m3, cov3, 100)\n",
    "\n",
    "X = np.vstack((data1,np.vstack((data2,data3))))\n",
    "np.random.shuffle(X)"
   ]
  },
  {
   "cell_type": "code",
   "execution_count": 8,
   "metadata": {},
   "outputs": [
    {
     "name": "stdout",
     "output_type": "stream",
     "text": [
      "[[ 8.15766742 12.81375745]\n",
      " [ 3.19791028  8.15700844]\n",
      " [ 7.96283452  5.36487312]]\n",
      "[0 1 0 0 0 0 0 1 2 0 2 0 2 0 2 1 0 2 0 0 2 0 2 0 1 0 0 0 2 2 0 2 0 0 2 0 2\n",
      " 1 1 0 0 2 2 0 1 0 1 0 2 0 1 0 2 1 2 2 2 1 2 1 1 1 1 0 2 0 1 2 0 1 2 0 2 0\n",
      " 1 0 0 1 0 2 1 1 0 0 1 0 2 1 0 1 1 2 2 0 2 2 0 0 0 0 2 1 0 0 0 0 2 0 0 2 1\n",
      " 2 0 1 0 0 2 2 0 1 0 0 0 0 1 2 1 2 0 1 0 1 2 2 2 0 0 2 1 1 0 0 0 0 2 1 0 0\n",
      " 2 0 2 0 0 0 0 0 1 0 0 2 0 1 0 0 1 2 0 2 0 0 0 1 2 1 2 1 2 2 2 2 2 2 1 1 0\n",
      " 0 0 2 1 1 2 2 1 2 0 2 2 2 0 0 1 0 2 0 0 0 2 0 0 0 0 1 2 1 0 1 2 2 0 2 0 0\n",
      " 2 2 1 0 0 0 2 1 0 2 1 2 1 0 0 0 0 2 1 0 2 0 2 2 0 1 0 0 2 1 1 1 2 2 2 0 2\n",
      " 2 0 0 2 1 1 0 2 0 0 2 2 1 2 1 0 0 2 2 2 1 2 2 0 0 0 0 2 0 0 0 1 0 2 2 2 0\n",
      " 0 1 2 1 1 1 1 0 1 2 1 0 0 2 0 2 2 0 0 2 2 1 2 1 0 2 0 2 2 1 2 2 0 0 0 1 0\n",
      " 0 1 2 0 0 0 0 0 1 0 1 0 1 2 0 1 0 1 1 2 2 1 0 2 2 0 0 0 1 1 0 2 0 0 2 1 0\n",
      " 0 1 0 1 0 2 2 1 0 0 0 2 1 2 2 0 1 0 1 2 0 2 0 2 0 2 1 1 0 2 2 1 2 1 1 2 0\n",
      " 2 2 2 0 0 0 0 0 0 0 0 1 1 1 0 0 0 0 0 0 2 0 0 0 0 2 1 0 0 2 0 2 0 2 0 2 0\n",
      " 2 1 2 0 0 2 2 0 2 2 0 0 2 1 0 2 2 2 0 2 0 0 2 2 2 0 2 2 1 0 1 1 0 1 2 1 0\n",
      " 0 0 2 0 2 1 0 2 0 2 0 2 0 0 2 2 2 2 2 2 1 0 0 0 2 0 0 0 2 0 0 1 0 0 2 0 2\n",
      " 2 0 0 2 0 0 0 0 2 2 0 2]\n",
      "[0 1 0 0 2 2 0 1 2 0 2 0 2 0 2 1 0 2 0 0 2 0 2 0 1 0 0 0 2 2 0 2 0 0 2 0 2\n",
      " 1 1 2 0 2 2 2 1 0 1 0 2 0 0 0 2 1 2 2 2 1 2 1 0 1 1 0 2 0 1 2 0 1 2 0 2 0\n",
      " 1 0 0 1 2 2 1 1 0 0 1 2 2 1 2 0 1 2 2 0 2 2 0 0 0 2 2 1 2 2 0 0 2 0 0 2 0\n",
      " 2 0 1 0 2 2 2 0 1 2 0 0 0 1 2 1 2 0 1 0 1 2 2 2 0 2 2 1 1 0 0 2 2 2 1 2 2\n",
      " 2 2 2 2 0 0 0 0 1 0 2 2 2 1 0 0 0 2 2 2 0 2 0 1 2 1 2 1 2 2 2 2 2 2 1 1 0\n",
      " 2 0 2 1 1 2 2 0 2 0 2 2 2 0 2 1 0 2 0 2 2 2 0 0 0 2 1 2 1 0 1 2 2 0 2 2 2\n",
      " 2 2 1 0 0 0 2 0 2 2 1 2 1 0 0 0 0 2 1 0 2 0 2 2 0 0 2 0 2 1 1 1 2 2 2 0 2\n",
      " 2 0 0 2 1 1 0 2 0 0 2 2 1 2 1 0 0 2 2 2 1 2 2 0 0 0 0 2 0 0 0 1 0 2 2 2 0\n",
      " 0 0 2 1 1 0 1 0 0 2 1 2 2 2 2 2 2 0 0 2 2 1 2 1 0 2 0 2 2 1 2 2 0 0 2 1 0\n",
      " 0 1 2 2 0 0 0 2 1 0 1 0 1 2 2 1 0 1 1 2 2 1 0 2 2 2 0 0 1 0 0 2 0 2 2 1 0\n",
      " 0 1 0 1 0 2 2 1 0 2 2 2 0 2 2 0 1 0 1 2 2 2 2 2 0 2 1 1 0 2 2 1 2 1 1 2 0\n",
      " 2 2 2 0 0 0 2 0 0 2 0 1 1 1 0 0 0 0 0 0 2 2 0 0 0 2 1 0 2 2 0 2 0 2 2 2 0\n",
      " 2 1 2 0 2 2 2 0 2 2 0 0 2 1 0 2 2 2 0 2 0 2 2 2 2 2 2 2 1 0 1 1 0 1 2 1 0\n",
      " 0 0 2 0 2 1 0 2 0 2 0 2 0 2 2 2 2 2 2 2 1 2 0 0 2 2 0 2 2 2 2 1 0 0 2 2 2\n",
      " 2 0 2 2 0 0 0 0 2 2 0 2]\n",
      "[0 1 0 0 2 2 0 1 2 0 2 0 2 0 2 1 0 2 2 0 2 0 2 0 1 0 0 0 2 2 2 2 0 0 2 0 2\n",
      " 1 1 2 0 2 2 2 1 2 1 0 2 0 0 0 2 1 2 2 2 1 2 1 0 1 1 0 2 0 1 2 0 1 2 0 2 0\n",
      " 1 0 2 1 2 2 1 1 0 0 1 2 2 1 2 0 1 2 2 0 2 2 0 0 0 2 2 1 2 2 0 0 2 0 0 2 0\n",
      " 2 2 1 0 2 2 2 0 1 2 0 0 0 1 2 1 2 0 1 0 1 2 2 2 0 2 2 1 1 0 0 2 2 2 1 2 2\n",
      " 2 2 2 2 0 0 0 0 1 0 2 2 2 1 0 0 0 2 2 2 0 2 2 1 2 1 2 1 2 2 2 2 2 2 1 1 0\n",
      " 2 0 2 1 1 2 2 0 2 0 2 2 2 0 2 1 0 2 0 2 2 2 0 0 0 2 1 2 1 0 1 2 2 0 2 2 2\n",
      " 2 2 1 0 0 0 2 0 2 2 1 2 1 0 0 2 0 2 1 0 2 0 2 2 0 0 2 0 2 1 1 1 2 2 2 0 2\n",
      " 2 0 0 2 1 1 0 2 0 2 2 2 1 2 1 0 0 2 2 2 1 2 2 0 0 0 2 2 0 0 0 1 0 2 2 2 0\n",
      " 0 0 2 1 1 0 1 0 0 2 1 2 2 2 2 2 2 0 0 2 2 1 2 1 0 2 0 2 2 1 2 2 0 2 2 1 0\n",
      " 0 1 2 2 0 0 0 2 1 0 1 0 1 2 2 1 0 1 1 2 2 1 0 2 2 2 0 0 1 0 0 2 2 2 2 1 0\n",
      " 0 1 0 1 0 2 2 1 0 2 2 2 0 2 2 0 1 0 1 2 2 2 2 2 0 2 1 1 0 2 2 1 2 1 1 2 0\n",
      " 2 2 2 0 0 0 2 0 0 2 0 1 1 1 0 0 0 0 0 0 2 2 0 0 0 2 1 0 2 2 0 2 0 2 2 2 0\n",
      " 2 1 2 0 2 2 2 0 2 2 0 0 2 1 0 2 2 2 0 2 0 2 2 2 2 2 2 2 1 0 1 1 0 1 2 1 0\n",
      " 0 0 2 0 2 1 0 2 0 1 0 2 0 2 2 2 2 2 2 2 1 2 0 0 2 2 0 2 2 2 2 1 0 0 2 2 2\n",
      " 2 0 2 2 0 0 0 0 2 2 0 2]\n",
      "[0 1 0 0 2 2 0 1 2 0 2 0 2 0 2 1 0 2 2 0 2 0 2 0 1 0 0 0 2 2 2 2 0 0 2 0 2\n",
      " 1 1 2 0 2 2 2 1 2 1 0 2 0 0 0 2 1 2 2 2 1 2 1 0 1 1 0 2 0 1 2 0 1 2 0 2 0\n",
      " 1 0 2 1 2 2 1 1 0 0 1 2 2 1 2 0 1 2 2 0 2 2 0 0 0 2 2 1 2 2 0 0 2 0 0 2 0\n",
      " 2 2 1 0 2 2 2 0 1 2 0 0 0 1 2 1 2 0 1 0 1 2 2 2 0 2 2 1 1 0 0 2 2 2 1 2 2\n",
      " 2 2 2 2 0 0 0 0 1 0 2 2 2 1 0 0 0 2 2 2 0 2 2 1 2 1 2 1 2 2 2 2 2 2 1 1 0\n",
      " 2 0 2 1 1 2 2 0 2 0 2 2 2 0 2 1 0 2 0 2 2 2 0 0 0 2 1 2 1 0 1 2 2 0 2 2 2\n",
      " 2 2 1 0 0 0 2 0 2 2 1 2 1 0 0 2 0 2 1 0 2 0 2 2 0 0 2 0 2 1 1 1 2 2 2 0 2\n",
      " 2 0 0 2 1 1 2 2 0 2 2 2 1 2 1 0 0 2 2 2 1 2 2 0 0 0 2 2 0 0 0 1 0 2 2 2 0\n",
      " 0 0 2 1 1 0 1 0 2 2 1 2 2 2 2 2 2 0 0 2 2 1 2 1 0 2 0 2 2 1 2 2 0 2 2 1 0\n",
      " 0 1 2 2 0 0 0 2 1 0 1 0 1 2 2 1 0 1 1 2 2 1 0 2 2 2 0 0 1 0 0 2 2 2 2 1 0\n",
      " 0 1 0 1 0 2 2 1 0 2 2 2 0 2 2 0 1 0 1 2 2 2 2 2 0 2 1 1 0 2 2 1 2 1 1 2 0\n",
      " 2 2 2 0 0 0 2 0 0 2 0 1 1 1 0 0 2 0 0 0 2 2 0 0 0 2 1 0 2 2 0 2 0 2 2 2 0\n",
      " 2 1 2 0 2 2 2 0 2 2 0 0 2 1 0 2 2 2 0 2 0 2 2 2 2 2 2 2 1 0 1 1 0 1 2 1 0\n",
      " 0 0 2 0 2 1 0 2 0 1 0 2 0 2 2 2 2 2 2 2 1 2 0 0 2 2 0 2 2 2 2 1 0 0 2 2 2\n",
      " 2 0 2 2 0 0 0 0 2 2 0 2]\n",
      "[0 1 0 0 2 2 0 1 2 0 2 0 2 0 2 1 0 2 2 0 2 0 2 0 1 0 0 0 2 2 2 2 0 0 2 0 2\n",
      " 1 1 2 0 2 2 2 1 2 1 0 2 0 0 0 2 1 2 2 2 1 2 1 0 1 1 0 2 0 1 2 0 1 2 0 2 0\n",
      " 1 0 2 1 2 2 1 1 0 0 1 2 2 1 2 0 1 2 2 0 2 2 0 0 0 2 2 1 2 2 0 0 2 0 0 2 0\n",
      " 2 2 1 0 2 2 2 0 1 2 0 0 0 1 2 1 2 0 1 0 1 2 2 2 0 2 2 1 1 0 0 2 2 2 1 2 2\n",
      " 2 2 2 2 0 0 0 0 1 0 2 2 2 1 0 0 0 2 2 2 0 2 2 1 2 1 2 1 2 2 2 2 2 2 1 1 0\n",
      " 2 0 2 1 1 2 2 0 2 0 2 2 2 0 2 1 0 2 0 2 2 2 0 0 0 2 1 2 1 0 1 2 2 0 2 2 2\n",
      " 2 2 1 0 0 0 2 0 2 2 1 2 1 0 0 2 0 2 1 0 2 0 2 2 0 0 2 0 2 1 1 1 2 2 2 0 2\n",
      " 2 0 0 2 1 1 2 2 0 2 2 2 1 2 1 0 0 2 2 2 1 2 2 0 0 0 2 2 0 0 0 1 0 2 2 2 0\n",
      " 0 0 2 1 1 0 1 0 2 2 1 2 2 2 2 2 2 0 0 2 2 1 2 1 0 2 0 2 2 1 2 2 0 2 2 1 0\n",
      " 0 1 2 2 0 0 0 2 1 0 1 0 1 2 2 1 0 1 1 2 2 1 0 2 2 2 0 0 1 0 0 2 2 2 2 1 0\n",
      " 0 1 0 1 0 2 2 1 0 2 2 2 0 2 2 0 1 0 1 2 2 2 2 2 0 2 1 1 0 2 2 1 2 1 1 2 0\n",
      " 2 2 2 0 0 0 2 0 0 2 0 1 1 1 0 0 2 0 0 0 2 2 0 0 0 2 1 0 2 2 0 2 0 2 2 2 0\n",
      " 2 1 2 0 2 2 2 0 2 2 0 0 2 1 0 2 2 2 0 2 0 2 2 2 2 2 2 2 1 0 1 1 0 1 2 1 0\n",
      " 0 0 2 0 2 1 0 2 0 1 0 2 0 2 2 2 2 2 2 2 1 2 0 0 2 2 0 2 2 2 2 1 0 0 2 2 2\n",
      " 2 0 2 2 0 0 0 0 2 2 0 2]\n"
     ]
    },
    {
     "data": {
      "image/png": "[encoded data removed]",
      "text/plain": [
       "<Figure size 432x288 with 1 Axes>"
      ]
     },
     "metadata": {},
     "output_type": "display_data"
    }
   ],
   "source": [
    "centroids, C = kMeans(X, K = 3)\n",
    "\n",
    "show(X, C, centroids, True)\n",
    "\n"
   ]
  },
  {
   "cell_type": "code",
   "execution_count": null,
   "metadata": {},
   "outputs": [],
   "source": []
  },
  {
   "cell_type": "code",
   "execution_count": null,
   "metadata": {},
   "outputs": [],
   "source": []
  },
  {
   "cell_type": "code",
   "execution_count": null,
   "metadata": {},
   "outputs": [],
   "source": []
  },
  {
   "cell_type": "code",
   "execution_count": null,
   "metadata": {},
   "outputs": [],
   "source": []
  },
  {
   "cell_type": "code",
   "execution_count": null,
   "metadata": {},
   "outputs": [],
   "source": []
  },
  {
   "cell_type": "code",
   "execution_count": null,
   "metadata": {},
   "outputs": [],
   "source": []
  },
  {
   "cell_type": "code",
   "execution_count": null,
   "metadata": {},
   "outputs": [],
   "source": []
  }
 ],
 "metadata": {
  "kernelspec": {
   "display_name": "Python 3",
   "language": "python",
   "name": "python3"
  },
  "language_info": {
   "codemirror_mode": {
    "name": "ipython",
    "version": 3
   },
   "file_extension": ".py",
   "mimetype": "text/x-python",
   "name": "python",
   "nbconvert_exporter": "python",
   "pygments_lexer": "ipython3",
   "version": "3.6.5"
  }
 },
 "nbformat": 4,
 "nbformat_minor": 2
}
